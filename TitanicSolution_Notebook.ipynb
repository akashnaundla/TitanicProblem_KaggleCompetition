{
 "cells": [
  {
   "cell_type": "code",
   "execution_count": 8,
   "id": "92aef155",
   "metadata": {},
   "outputs": [],
   "source": [
    "import pandas as pd\n",
    "import numpy as np\n",
    "import matplotlib.pyplot as plt\n",
    "import seaborn as sb"
   ]
  },
  {
   "cell_type": "code",
   "execution_count": 890,
   "id": "5d728c47",
   "metadata": {},
   "outputs": [
    {
     "data": {
      "text/plain": [
       "(Index(['PassengerId', 'Pclass', 'Name', 'Sex', 'Age', 'SibSp', 'Parch',\n",
       "        'Ticket', 'Fare', 'Cabin', 'Embarked'],\n",
       "       dtype='object'),\n",
       " Index(['PassengerId', 'Survived', 'Pclass', 'Name', 'Sex', 'Age', 'SibSp',\n",
       "        'Parch', 'Ticket', 'Fare', 'Cabin', 'Embarked'],\n",
       "       dtype='object'))"
      ]
     },
     "execution_count": 890,
     "metadata": {},
     "output_type": "execute_result"
    }
   ],
   "source": [
    "train_df = pd.read_csv(\"data/train.csv\")\n",
    "test_df=pd.read_csv(\"data/test.csv\")\n",
    "(test_df.columns), (train_df.columns)"
   ]
  },
  {
   "cell_type": "code",
   "execution_count": 891,
   "id": "6ce17a65",
   "metadata": {},
   "outputs": [
    {
     "data": {
      "text/html": [
       "<div>\n",
       "<style scoped>\n",
       "    .dataframe tbody tr th:only-of-type {\n",
       "        vertical-align: middle;\n",
       "    }\n",
       "\n",
       "    .dataframe tbody tr th {\n",
       "        vertical-align: top;\n",
       "    }\n",
       "\n",
       "    .dataframe thead th {\n",
       "        text-align: right;\n",
       "    }\n",
       "</style>\n",
       "<table border=\"1\" class=\"dataframe\">\n",
       "  <thead>\n",
       "    <tr style=\"text-align: right;\">\n",
       "      <th></th>\n",
       "      <th>Pclass</th>\n",
       "      <th>Name</th>\n",
       "      <th>Sex</th>\n",
       "      <th>Age</th>\n",
       "      <th>SibSp</th>\n",
       "      <th>Parch</th>\n",
       "      <th>Ticket</th>\n",
       "      <th>Fare</th>\n",
       "      <th>Cabin</th>\n",
       "      <th>Embarked</th>\n",
       "    </tr>\n",
       "    <tr>\n",
       "      <th>PassengerId</th>\n",
       "      <th></th>\n",
       "      <th></th>\n",
       "      <th></th>\n",
       "      <th></th>\n",
       "      <th></th>\n",
       "      <th></th>\n",
       "      <th></th>\n",
       "      <th></th>\n",
       "      <th></th>\n",
       "      <th></th>\n",
       "    </tr>\n",
       "  </thead>\n",
       "  <tbody>\n",
       "    <tr>\n",
       "      <th>892</th>\n",
       "      <td>3</td>\n",
       "      <td>Kelly, Mr. James</td>\n",
       "      <td>male</td>\n",
       "      <td>34.5</td>\n",
       "      <td>0</td>\n",
       "      <td>0</td>\n",
       "      <td>330911</td>\n",
       "      <td>7.8292</td>\n",
       "      <td>NaN</td>\n",
       "      <td>Q</td>\n",
       "    </tr>\n",
       "    <tr>\n",
       "      <th>893</th>\n",
       "      <td>3</td>\n",
       "      <td>Wilkes, Mrs. James (Ellen Needs)</td>\n",
       "      <td>female</td>\n",
       "      <td>47.0</td>\n",
       "      <td>1</td>\n",
       "      <td>0</td>\n",
       "      <td>363272</td>\n",
       "      <td>7.0000</td>\n",
       "      <td>NaN</td>\n",
       "      <td>S</td>\n",
       "    </tr>\n",
       "    <tr>\n",
       "      <th>894</th>\n",
       "      <td>2</td>\n",
       "      <td>Myles, Mr. Thomas Francis</td>\n",
       "      <td>male</td>\n",
       "      <td>62.0</td>\n",
       "      <td>0</td>\n",
       "      <td>0</td>\n",
       "      <td>240276</td>\n",
       "      <td>9.6875</td>\n",
       "      <td>NaN</td>\n",
       "      <td>Q</td>\n",
       "    </tr>\n",
       "    <tr>\n",
       "      <th>895</th>\n",
       "      <td>3</td>\n",
       "      <td>Wirz, Mr. Albert</td>\n",
       "      <td>male</td>\n",
       "      <td>27.0</td>\n",
       "      <td>0</td>\n",
       "      <td>0</td>\n",
       "      <td>315154</td>\n",
       "      <td>8.6625</td>\n",
       "      <td>NaN</td>\n",
       "      <td>S</td>\n",
       "    </tr>\n",
       "    <tr>\n",
       "      <th>896</th>\n",
       "      <td>3</td>\n",
       "      <td>Hirvonen, Mrs. Alexander (Helga E Lindqvist)</td>\n",
       "      <td>female</td>\n",
       "      <td>22.0</td>\n",
       "      <td>1</td>\n",
       "      <td>1</td>\n",
       "      <td>3101298</td>\n",
       "      <td>12.2875</td>\n",
       "      <td>NaN</td>\n",
       "      <td>S</td>\n",
       "    </tr>\n",
       "    <tr>\n",
       "      <th>...</th>\n",
       "      <td>...</td>\n",
       "      <td>...</td>\n",
       "      <td>...</td>\n",
       "      <td>...</td>\n",
       "      <td>...</td>\n",
       "      <td>...</td>\n",
       "      <td>...</td>\n",
       "      <td>...</td>\n",
       "      <td>...</td>\n",
       "      <td>...</td>\n",
       "    </tr>\n",
       "    <tr>\n",
       "      <th>1305</th>\n",
       "      <td>3</td>\n",
       "      <td>Spector, Mr. Woolf</td>\n",
       "      <td>male</td>\n",
       "      <td>NaN</td>\n",
       "      <td>0</td>\n",
       "      <td>0</td>\n",
       "      <td>A.5. 3236</td>\n",
       "      <td>8.0500</td>\n",
       "      <td>NaN</td>\n",
       "      <td>S</td>\n",
       "    </tr>\n",
       "    <tr>\n",
       "      <th>1306</th>\n",
       "      <td>1</td>\n",
       "      <td>Oliva y Ocana, Dona. Fermina</td>\n",
       "      <td>female</td>\n",
       "      <td>39.0</td>\n",
       "      <td>0</td>\n",
       "      <td>0</td>\n",
       "      <td>PC 17758</td>\n",
       "      <td>108.9000</td>\n",
       "      <td>C105</td>\n",
       "      <td>C</td>\n",
       "    </tr>\n",
       "    <tr>\n",
       "      <th>1307</th>\n",
       "      <td>3</td>\n",
       "      <td>Saether, Mr. Simon Sivertsen</td>\n",
       "      <td>male</td>\n",
       "      <td>38.5</td>\n",
       "      <td>0</td>\n",
       "      <td>0</td>\n",
       "      <td>SOTON/O.Q. 3101262</td>\n",
       "      <td>7.2500</td>\n",
       "      <td>NaN</td>\n",
       "      <td>S</td>\n",
       "    </tr>\n",
       "    <tr>\n",
       "      <th>1308</th>\n",
       "      <td>3</td>\n",
       "      <td>Ware, Mr. Frederick</td>\n",
       "      <td>male</td>\n",
       "      <td>NaN</td>\n",
       "      <td>0</td>\n",
       "      <td>0</td>\n",
       "      <td>359309</td>\n",
       "      <td>8.0500</td>\n",
       "      <td>NaN</td>\n",
       "      <td>S</td>\n",
       "    </tr>\n",
       "    <tr>\n",
       "      <th>1309</th>\n",
       "      <td>3</td>\n",
       "      <td>Peter, Master. Michael J</td>\n",
       "      <td>male</td>\n",
       "      <td>NaN</td>\n",
       "      <td>1</td>\n",
       "      <td>1</td>\n",
       "      <td>2668</td>\n",
       "      <td>22.3583</td>\n",
       "      <td>NaN</td>\n",
       "      <td>C</td>\n",
       "    </tr>\n",
       "  </tbody>\n",
       "</table>\n",
       "<p>418 rows × 10 columns</p>\n",
       "</div>"
      ],
      "text/plain": [
       "             Pclass                                          Name     Sex  \\\n",
       "PassengerId                                                                 \n",
       "892               3                              Kelly, Mr. James    male   \n",
       "893               3              Wilkes, Mrs. James (Ellen Needs)  female   \n",
       "894               2                     Myles, Mr. Thomas Francis    male   \n",
       "895               3                              Wirz, Mr. Albert    male   \n",
       "896               3  Hirvonen, Mrs. Alexander (Helga E Lindqvist)  female   \n",
       "...             ...                                           ...     ...   \n",
       "1305              3                            Spector, Mr. Woolf    male   \n",
       "1306              1                  Oliva y Ocana, Dona. Fermina  female   \n",
       "1307              3                  Saether, Mr. Simon Sivertsen    male   \n",
       "1308              3                           Ware, Mr. Frederick    male   \n",
       "1309              3                      Peter, Master. Michael J    male   \n",
       "\n",
       "              Age  SibSp  Parch              Ticket      Fare Cabin Embarked  \n",
       "PassengerId                                                                   \n",
       "892          34.5      0      0              330911    7.8292   NaN        Q  \n",
       "893          47.0      1      0              363272    7.0000   NaN        S  \n",
       "894          62.0      0      0              240276    9.6875   NaN        Q  \n",
       "895          27.0      0      0              315154    8.6625   NaN        S  \n",
       "896          22.0      1      1             3101298   12.2875   NaN        S  \n",
       "...           ...    ...    ...                 ...       ...   ...      ...  \n",
       "1305          NaN      0      0           A.5. 3236    8.0500   NaN        S  \n",
       "1306         39.0      0      0            PC 17758  108.9000  C105        C  \n",
       "1307         38.5      0      0  SOTON/O.Q. 3101262    7.2500   NaN        S  \n",
       "1308          NaN      0      0              359309    8.0500   NaN        S  \n",
       "1309          NaN      1      1                2668   22.3583   NaN        C  \n",
       "\n",
       "[418 rows x 10 columns]"
      ]
     },
     "execution_count": 891,
     "metadata": {},
     "output_type": "execute_result"
    }
   ],
   "source": [
    "test_df.set_index(\"PassengerId\")"
   ]
  },
  {
   "cell_type": "markdown",
   "id": "6d81363d",
   "metadata": {},
   "source": [
    "### Feature Engineering using Kaggle provided steps"
   ]
  },
  {
   "cell_type": "code",
   "execution_count": 892,
   "id": "cc3bf6c0",
   "metadata": {},
   "outputs": [],
   "source": [
    "def transform_df(df, is_test_dataset=None):\n",
    "    def substrings_in_string(big_string, substrings):\n",
    "        for substring in substrings:\n",
    "            if type(big_string)==str:\n",
    "                if big_string.find(substring) != -1:\n",
    "                    return substring\n",
    "        #print (big_string)\n",
    "        return np.nan\n",
    "\n",
    "    def replace_titles(x):\n",
    "        title=x['Title']\n",
    "        if title in ['Don', 'Major', 'Capt', 'Jonkheer', 'Rev', 'Col']:\n",
    "            return 'Mr'\n",
    "        elif title in ['Countess', 'Mme']:\n",
    "            return 'Mrs'\n",
    "        elif title in ['Mlle', 'Ms']:\n",
    "            return 'Miss'\n",
    "        elif title =='Dr':\n",
    "            if x['Sex']=='Male':\n",
    "                return 'Mr'\n",
    "            else:\n",
    "                return 'Mrs'\n",
    "        else:\n",
    "            return title\n",
    "\n",
    "\n",
    "    title_list=['Mrs', 'Mr', 'Master', 'Miss', 'Major', 'Rev','Dr', 'Ms', 'Mlle','Col', 'Capt', 'Mme', 'Countess','Don', 'Jonkheer']\n",
    "    df['Title']=df['Name'].map(lambda x: substrings_in_string(x, title_list))\n",
    "\n",
    "\n",
    "    #replacing all titles with mr, mrs, miss, master\n",
    "    df['Title']=df.apply(replace_titles, axis=1)\n",
    "\n",
    "\n",
    "    #Turning cabin number into Deck\n",
    "    cabin_list = ['A', 'B', 'C', 'D', 'E', 'F', 'T', 'G', 'Unknown']\n",
    "    df['Deck']=df['Cabin'].map(lambda x: substrings_in_string(x, cabin_list))\n",
    "\n",
    "    #Creating new family_size column\n",
    "    df['Family_Size']=df['SibSp']+df['Parch']\n",
    "\n",
    "    #Age*Class\n",
    "    df['Age*Class']=df['Age']*df['Pclass']\n",
    "\n",
    "       \n",
    "    # dropping passengerId and Family_Size\n",
    "    df.drop(['Family_Size'], axis=1, inplace=True)\n",
    "    if is_test_dataset == False or is_test_dataset == None:\n",
    "        df.drop(['PassengerId'], axis=1, inplace=True)\n",
    "    df.drop([\"Cabin\",\"Deck\"], axis=1, inplace=True)\n",
    "    df.drop([\"Name\",\"Ticket\"], axis=1, inplace=True)\n",
    "     #Imputation using ColumnTransformer\n",
    "    from sklearn.compose import ColumnTransformer\n",
    "    from sklearn.impute import SimpleImputer\n",
    "    from sklearn.preprocessing import LabelEncoder\n",
    "    si1=SimpleImputer(strategy='mean');\n",
    "    si2=SimpleImputer(strategy='constant',fill_value='S');\n",
    "    le= LabelEncoder()\n",
    "\n",
    "    num_cols = [\"Age\", \"Age*Class\",\"Fare\"];\n",
    "    emb_col = [\"Embarked\"]\n",
    "\n",
    "    #Imputing Southampton to Embarked since it is the starting point\n",
    "    ct = ColumnTransformer([\n",
    "        (\"mean_\", si1,num_cols),\n",
    "        (\"emb_\", si2,emb_col)\n",
    "    ])\n",
    "    fill_mean_emb=ct.fit_transform(df)\n",
    "    filled_mean_emb = pd.DataFrame(data=fill_mean_emb,columns=[\"Age\",\"Age*Class\",\"Fare\",\"Embarked\"])\n",
    "\n",
    "    for column in filled_mean_emb.columns:\n",
    "        df[column]=filled_mean_emb[column]\n",
    "    df[\"Fare\"].fillna(value=df[\"Fare\"].mean(), inplace=True)\n",
    "    return df\n"
   ]
  },
  {
   "cell_type": "code",
   "execution_count": 893,
   "id": "e57ed238",
   "metadata": {},
   "outputs": [],
   "source": [
    "train_df=transform_df(train_df)\n",
    "test_df=transform_df(test_df, True)"
   ]
  },
  {
   "cell_type": "code",
   "execution_count": 894,
   "id": "66ebf180",
   "metadata": {},
   "outputs": [
    {
     "data": {
      "text/html": [
       "<div>\n",
       "<style scoped>\n",
       "    .dataframe tbody tr th:only-of-type {\n",
       "        vertical-align: middle;\n",
       "    }\n",
       "\n",
       "    .dataframe tbody tr th {\n",
       "        vertical-align: top;\n",
       "    }\n",
       "\n",
       "    .dataframe thead th {\n",
       "        text-align: right;\n",
       "    }\n",
       "</style>\n",
       "<table border=\"1\" class=\"dataframe\">\n",
       "  <thead>\n",
       "    <tr style=\"text-align: right;\">\n",
       "      <th></th>\n",
       "      <th>Pclass</th>\n",
       "      <th>Sex</th>\n",
       "      <th>Age</th>\n",
       "      <th>SibSp</th>\n",
       "      <th>Parch</th>\n",
       "      <th>Fare</th>\n",
       "      <th>Embarked</th>\n",
       "      <th>Title</th>\n",
       "      <th>Age*Class</th>\n",
       "    </tr>\n",
       "    <tr>\n",
       "      <th>PassengerId</th>\n",
       "      <th></th>\n",
       "      <th></th>\n",
       "      <th></th>\n",
       "      <th></th>\n",
       "      <th></th>\n",
       "      <th></th>\n",
       "      <th></th>\n",
       "      <th></th>\n",
       "      <th></th>\n",
       "    </tr>\n",
       "  </thead>\n",
       "  <tbody>\n",
       "    <tr>\n",
       "      <th>892</th>\n",
       "      <td>3</td>\n",
       "      <td>male</td>\n",
       "      <td>34.5</td>\n",
       "      <td>0</td>\n",
       "      <td>0</td>\n",
       "      <td>7.8292</td>\n",
       "      <td>Q</td>\n",
       "      <td>Mr</td>\n",
       "      <td>103.5</td>\n",
       "    </tr>\n",
       "    <tr>\n",
       "      <th>893</th>\n",
       "      <td>3</td>\n",
       "      <td>female</td>\n",
       "      <td>47.0</td>\n",
       "      <td>1</td>\n",
       "      <td>0</td>\n",
       "      <td>7.0000</td>\n",
       "      <td>S</td>\n",
       "      <td>Mrs</td>\n",
       "      <td>141.0</td>\n",
       "    </tr>\n",
       "    <tr>\n",
       "      <th>894</th>\n",
       "      <td>2</td>\n",
       "      <td>male</td>\n",
       "      <td>62.0</td>\n",
       "      <td>0</td>\n",
       "      <td>0</td>\n",
       "      <td>9.6875</td>\n",
       "      <td>Q</td>\n",
       "      <td>Mr</td>\n",
       "      <td>124.0</td>\n",
       "    </tr>\n",
       "    <tr>\n",
       "      <th>895</th>\n",
       "      <td>3</td>\n",
       "      <td>male</td>\n",
       "      <td>27.0</td>\n",
       "      <td>0</td>\n",
       "      <td>0</td>\n",
       "      <td>8.6625</td>\n",
       "      <td>S</td>\n",
       "      <td>Mr</td>\n",
       "      <td>81.0</td>\n",
       "    </tr>\n",
       "    <tr>\n",
       "      <th>896</th>\n",
       "      <td>3</td>\n",
       "      <td>female</td>\n",
       "      <td>22.0</td>\n",
       "      <td>1</td>\n",
       "      <td>1</td>\n",
       "      <td>12.2875</td>\n",
       "      <td>S</td>\n",
       "      <td>Mrs</td>\n",
       "      <td>66.0</td>\n",
       "    </tr>\n",
       "    <tr>\n",
       "      <th>...</th>\n",
       "      <td>...</td>\n",
       "      <td>...</td>\n",
       "      <td>...</td>\n",
       "      <td>...</td>\n",
       "      <td>...</td>\n",
       "      <td>...</td>\n",
       "      <td>...</td>\n",
       "      <td>...</td>\n",
       "      <td>...</td>\n",
       "    </tr>\n",
       "    <tr>\n",
       "      <th>1305</th>\n",
       "      <td>3</td>\n",
       "      <td>male</td>\n",
       "      <td>30.27259</td>\n",
       "      <td>0</td>\n",
       "      <td>0</td>\n",
       "      <td>8.0500</td>\n",
       "      <td>S</td>\n",
       "      <td>Mr</td>\n",
       "      <td>59.033373</td>\n",
       "    </tr>\n",
       "    <tr>\n",
       "      <th>1306</th>\n",
       "      <td>1</td>\n",
       "      <td>female</td>\n",
       "      <td>39.0</td>\n",
       "      <td>0</td>\n",
       "      <td>0</td>\n",
       "      <td>108.9000</td>\n",
       "      <td>C</td>\n",
       "      <td>Mr</td>\n",
       "      <td>39.0</td>\n",
       "    </tr>\n",
       "    <tr>\n",
       "      <th>1307</th>\n",
       "      <td>3</td>\n",
       "      <td>male</td>\n",
       "      <td>38.5</td>\n",
       "      <td>0</td>\n",
       "      <td>0</td>\n",
       "      <td>7.2500</td>\n",
       "      <td>S</td>\n",
       "      <td>Mr</td>\n",
       "      <td>115.5</td>\n",
       "    </tr>\n",
       "    <tr>\n",
       "      <th>1308</th>\n",
       "      <td>3</td>\n",
       "      <td>male</td>\n",
       "      <td>30.27259</td>\n",
       "      <td>0</td>\n",
       "      <td>0</td>\n",
       "      <td>8.0500</td>\n",
       "      <td>S</td>\n",
       "      <td>Mr</td>\n",
       "      <td>59.033373</td>\n",
       "    </tr>\n",
       "    <tr>\n",
       "      <th>1309</th>\n",
       "      <td>3</td>\n",
       "      <td>male</td>\n",
       "      <td>30.27259</td>\n",
       "      <td>1</td>\n",
       "      <td>1</td>\n",
       "      <td>22.3583</td>\n",
       "      <td>C</td>\n",
       "      <td>Master</td>\n",
       "      <td>59.033373</td>\n",
       "    </tr>\n",
       "  </tbody>\n",
       "</table>\n",
       "<p>418 rows × 9 columns</p>\n",
       "</div>"
      ],
      "text/plain": [
       "             Pclass     Sex       Age  SibSp  Parch      Fare Embarked  \\\n",
       "PassengerId                                                              \n",
       "892               3    male      34.5      0      0    7.8292        Q   \n",
       "893               3  female      47.0      1      0    7.0000        S   \n",
       "894               2    male      62.0      0      0    9.6875        Q   \n",
       "895               3    male      27.0      0      0    8.6625        S   \n",
       "896               3  female      22.0      1      1   12.2875        S   \n",
       "...             ...     ...       ...    ...    ...       ...      ...   \n",
       "1305              3    male  30.27259      0      0    8.0500        S   \n",
       "1306              1  female      39.0      0      0  108.9000        C   \n",
       "1307              3    male      38.5      0      0    7.2500        S   \n",
       "1308              3    male  30.27259      0      0    8.0500        S   \n",
       "1309              3    male  30.27259      1      1   22.3583        C   \n",
       "\n",
       "              Title  Age*Class  \n",
       "PassengerId                     \n",
       "892              Mr      103.5  \n",
       "893             Mrs      141.0  \n",
       "894              Mr      124.0  \n",
       "895              Mr       81.0  \n",
       "896             Mrs       66.0  \n",
       "...             ...        ...  \n",
       "1305             Mr  59.033373  \n",
       "1306             Mr       39.0  \n",
       "1307             Mr      115.5  \n",
       "1308             Mr  59.033373  \n",
       "1309         Master  59.033373  \n",
       "\n",
       "[418 rows x 9 columns]"
      ]
     },
     "execution_count": 894,
     "metadata": {},
     "output_type": "execute_result"
    }
   ],
   "source": [
    "test_df.set_index(\"PassengerId\")"
   ]
  },
  {
   "cell_type": "code",
   "execution_count": 849,
   "id": "4b2d515a",
   "metadata": {},
   "outputs": [
    {
     "data": {
      "text/plain": [
       "(PassengerId    0\n",
       " Pclass         0\n",
       " Sex            0\n",
       " Age            0\n",
       " SibSp          0\n",
       " Parch          0\n",
       " Fare           0\n",
       " Embarked       0\n",
       " Title          0\n",
       " Age*Class      0\n",
       " dtype: int64,\n",
       " Survived     0\n",
       " Pclass       0\n",
       " Sex          0\n",
       " Age          0\n",
       " SibSp        0\n",
       " Parch        0\n",
       " Fare         0\n",
       " Embarked     0\n",
       " Title        0\n",
       " Age*Class    0\n",
       " dtype: int64)"
      ]
     },
     "execution_count": 849,
     "metadata": {},
     "output_type": "execute_result"
    }
   ],
   "source": [
    "test_df.isna().sum(), train_df.isna().sum()"
   ]
  },
  {
   "cell_type": "markdown",
   "id": "7f509a3c",
   "metadata": {},
   "source": [
    "### Data Preparation or Preprocessing"
   ]
  },
  {
   "cell_type": "code",
   "execution_count": 850,
   "id": "a3a82fcb",
   "metadata": {},
   "outputs": [],
   "source": [
    "train_df['Age']=train_df['Age'].astype(int)\n",
    "train_df['Age*Class']=train_df['Age*Class'].astype(int)\n",
    "train_df['Sex']=train_df['Sex'].apply(lambda x: 1 if x=='male' else 0)"
   ]
  },
  {
   "cell_type": "code",
   "execution_count": 851,
   "id": "66319ad5",
   "metadata": {},
   "outputs": [],
   "source": [
    "test_df['Age']=test_df['Age'].astype(int)\n",
    "test_df['Age*Class']=test_df['Age*Class'].astype(int)\n",
    "test_df['Sex']=test_df['Sex'].apply(lambda x: 1 if x=='male' else 0)"
   ]
  },
  {
   "cell_type": "code",
   "execution_count": 852,
   "id": "71f1368f",
   "metadata": {},
   "outputs": [],
   "source": [
    "#pd.get_dummies(train_df, columns=[\"Title\"])\n",
    "def encode_ordinal(df, column):\n",
    "    from sklearn.preprocessing import OrdinalEncoder\n",
    "    ord1=OrdinalEncoder()\n",
    "    ord1=ord1.fit([df[column]])\n",
    "    df[column]=ord1.fit_transform(df[[column]])\n",
    "    return df;"
   ]
  },
  {
   "cell_type": "code",
   "execution_count": 853,
   "id": "7730fa28",
   "metadata": {},
   "outputs": [],
   "source": [
    "train_df=encode_ordinal(train_df,'Title')\n",
    "train_df=encode_ordinal(train_df,'Embarked')\n",
    "\n",
    "test_df=encode_ordinal(test_df,'Title')\n",
    "test_df=encode_ordinal(test_df,'Embarked')"
   ]
  },
  {
   "cell_type": "markdown",
   "id": "7be83de2",
   "metadata": {},
   "source": [
    "# Modelling"
   ]
  },
  {
   "cell_type": "code",
   "execution_count": 806,
   "id": "1203a495",
   "metadata": {},
   "outputs": [],
   "source": [
    "from sklearn.ensemble import RandomForestClassifier\n",
    "from sklearn.ensemble import BaggingClassifier\n",
    "from sklearn.neighbors import KNeighborsClassifier\n",
    "from sklearn.svm import SVC\n",
    "from sklearn.svm import LinearSVC\n",
    "from sklearn.model_selection import cross_val_score"
   ]
  },
  {
   "cell_type": "code",
   "execution_count": 807,
   "id": "c8ee5889",
   "metadata": {},
   "outputs": [],
   "source": [
    "MODEL_NAMES= {\"RandomForestClassifier\": RandomForestClassifier,\"BaggingClassifier\" : BaggingClassifier,\n",
    "              \"KNeighborsClassifier\":KNeighborsClassifier,\n",
    "             \"SVC\":SVC,\"LinearSVC\": LinearSVC}\n",
    "MODEL_NAMES\n",
    "SCORES= {\"RandomForestClassifier\": 0,\"BaggingClassifier\" :0,\"KNeighborsClassifier\":0,\n",
    "        \"SVC\":0, \"LinearSVC\":LinearSVC}\n"
   ]
  },
  {
   "cell_type": "code",
   "execution_count": 808,
   "id": "a856d1b8",
   "metadata": {},
   "outputs": [],
   "source": [
    "X, y = train_df.drop(\"Survived\",axis=1), train_df[\"Survived\"]"
   ]
  },
  {
   "cell_type": "code",
   "execution_count": 809,
   "id": "49cff76a",
   "metadata": {},
   "outputs": [],
   "source": [
    "for modelname,model in MODEL_NAMES.items():\n",
    "    clf = model()\n",
    "    clf.fit(X,y)\n",
    "    #clf.feature_importances_\n",
    "    np.random.seed(42)\n",
    "    SCORES[modelname]=cross_val_score(clf, X,y,cv=5).mean()"
   ]
  },
  {
   "cell_type": "code",
   "execution_count": 810,
   "id": "4ad16bc2",
   "metadata": {},
   "outputs": [
    {
     "data": {
      "text/plain": [
       "{'RandomForestClassifier': 0.8204444165463561,\n",
       " 'BaggingClassifier': 0.8193145439708743,\n",
       " 'KNeighborsClassifier': 0.6858075450379764,\n",
       " 'SVC': 0.7049588851923922,\n",
       " 'LinearSVC': 0.7407632916954366}"
      ]
     },
     "execution_count": 810,
     "metadata": {},
     "output_type": "execute_result"
    }
   ],
   "source": [
    "SCORES"
   ]
  },
  {
   "cell_type": "code",
   "execution_count": 811,
   "id": "11eef072",
   "metadata": {},
   "outputs": [
    {
     "data": {
      "text/plain": [
       "{'bootstrap': True,\n",
       " 'ccp_alpha': 0.0,\n",
       " 'class_weight': None,\n",
       " 'criterion': 'gini',\n",
       " 'max_depth': None,\n",
       " 'max_features': 'auto',\n",
       " 'max_leaf_nodes': None,\n",
       " 'max_samples': None,\n",
       " 'min_impurity_decrease': 0.0,\n",
       " 'min_samples_leaf': 1,\n",
       " 'min_samples_split': 2,\n",
       " 'min_weight_fraction_leaf': 0.0,\n",
       " 'n_estimators': 100,\n",
       " 'n_jobs': None,\n",
       " 'oob_score': False,\n",
       " 'random_state': None,\n",
       " 'verbose': 0,\n",
       " 'warm_start': False}"
      ]
     },
     "execution_count": 811,
     "metadata": {},
     "output_type": "execute_result"
    }
   ],
   "source": [
    "clf1 = RandomForestClassifier()\n",
    "clf1.fit(X,y)\n",
    "clf1.get_params()"
   ]
  },
  {
   "cell_type": "code",
   "execution_count": 812,
   "id": "837d6952",
   "metadata": {},
   "outputs": [],
   "source": [
    "#GridSearchCV for RandomForestClassifier \n",
    "from sklearn.model_selection import GridSearchCV"
   ]
  },
  {
   "cell_type": "markdown",
   "id": "fe89f286",
   "metadata": {},
   "source": [
    "param_grid={\n",
    "    \"n_estimators\" :[10,50,100],\n",
    "    \"max_features\" : [\"sqrt\",\"log2\"],\n",
    "    \"max_depth\": [20,90],\n",
    "    \"min_samples_split\": [3,10],\n",
    "    \"min_samples_leaf\": [2,10]\n",
    "    \n",
    "}"
   ]
  },
  {
   "cell_type": "code",
   "execution_count": 813,
   "id": "872b646e",
   "metadata": {},
   "outputs": [],
   "source": [
    "from sklearn.model_selection import train_test_split"
   ]
  },
  {
   "cell_type": "code",
   "execution_count": 814,
   "id": "88043dfb",
   "metadata": {},
   "outputs": [],
   "source": [
    "X_train, X_test, y_train, y_test = train_test_split(X,y,test_size=0.2)"
   ]
  },
  {
   "cell_type": "code",
   "execution_count": 815,
   "id": "b4d03252",
   "metadata": {},
   "outputs": [
    {
     "data": {
      "text/plain": [
       "GridSearchCV(estimator=RandomForestClassifier(), n_jobs=8,\n",
       "             param_grid={'max_depth': [20, 90],\n",
       "                         'max_features': ['sqrt', 'log2'],\n",
       "                         'min_samples_leaf': [2, 10],\n",
       "                         'min_samples_split': [3, 5, 10],\n",
       "                         'n_estimators': [10, 50, 100]})"
      ]
     },
     "execution_count": 815,
     "metadata": {},
     "output_type": "execute_result"
    }
   ],
   "source": [
    "param_grid={\n",
    "    \"n_estimators\" :[10,50,100],\n",
    "    \"max_features\" : [\"sqrt\",\"log2\"],\n",
    "    \"max_depth\": [20,90],\n",
    "    \"min_samples_split\": [3,5,10],\n",
    "    \"min_samples_leaf\": [2,10]\n",
    "}\n",
    "gsc = GridSearchCV(estimator=clf1,param_grid=param_grid,n_jobs=8)\n",
    "gsc.fit(X_train,y_train)"
   ]
  },
  {
   "cell_type": "code",
   "execution_count": 816,
   "id": "3f52943e",
   "metadata": {},
   "outputs": [
    {
     "data": {
      "text/plain": [
       "(0.8369348960898257,\n",
       " RandomForestClassifier(max_depth=90, max_features='sqrt', min_samples_leaf=2,\n",
       "                        min_samples_split=10, n_estimators=10))"
      ]
     },
     "execution_count": 816,
     "metadata": {},
     "output_type": "execute_result"
    }
   ],
   "source": [
    "gsc.best_score_, gsc.best_estimator_"
   ]
  },
  {
   "cell_type": "markdown",
   "id": "6e845721",
   "metadata": {},
   "source": [
    "### Using Best Model "
   ]
  },
  {
   "cell_type": "code",
   "execution_count": 854,
   "id": "4a0e5425",
   "metadata": {},
   "outputs": [
    {
     "data": {
      "text/plain": [
       "0.8238152030632101"
      ]
     },
     "execution_count": 854,
     "metadata": {},
     "output_type": "execute_result"
    }
   ],
   "source": [
    "model = RandomForestClassifier(max_depth=20, max_features='log2', \n",
    "                       min_samples_leaf=2, min_samples_split=5, \n",
    "                       n_estimators=10)\n",
    "model.fit(X,y)\n",
    "np.random.seed(42)\n",
    "cross_val_score(model, X,y,cv=5).mean()"
   ]
  },
  {
   "cell_type": "markdown",
   "id": "473be2eb",
   "metadata": {},
   "source": [
    "### Running Predictions on Test Dataset"
   ]
  },
  {
   "cell_type": "code",
   "execution_count": 875,
   "id": "4fffd8f3",
   "metadata": {},
   "outputs": [],
   "source": [
    "test_df.head()\n",
    "cols=test_df.columns.to_list()\n",
    "cols.remove(\"PassengerId\")\n"
   ]
  },
  {
   "cell_type": "code",
   "execution_count": 877,
   "id": "e68b90a4",
   "metadata": {},
   "outputs": [],
   "source": [
    "preds=model.predict(test_df[cols])"
   ]
  },
  {
   "cell_type": "markdown",
   "id": "805a30b5",
   "metadata": {},
   "source": [
    "###  Submissions"
   ]
  },
  {
   "cell_type": "code",
   "execution_count": 885,
   "id": "99667385",
   "metadata": {},
   "outputs": [],
   "source": [
    "submissions = pd.DataFrame({\"PassengerId\":test_df.PassengerId, \"Survived\":preds})\n",
    "submissions.reset_index(drop=True, inplace=True)"
   ]
  },
  {
   "cell_type": "code",
   "execution_count": 888,
   "id": "5e3a89c6",
   "metadata": {},
   "outputs": [],
   "source": [
    "submissions.to_csv(\"data/my_submissions.csv\", index=False)"
   ]
  }
 ],
 "metadata": {
  "kernelspec": {
   "display_name": "Python 3 (ipykernel)",
   "language": "python",
   "name": "python3"
  },
  "language_info": {
   "codemirror_mode": {
    "name": "ipython",
    "version": 3
   },
   "file_extension": ".py",
   "mimetype": "text/x-python",
   "name": "python",
   "nbconvert_exporter": "python",
   "pygments_lexer": "ipython3",
   "version": "3.9.6"
  }
 },
 "nbformat": 4,
 "nbformat_minor": 5
}
